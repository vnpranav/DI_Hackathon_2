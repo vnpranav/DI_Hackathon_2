{
 "cells": [
  {
   "cell_type": "code",
   "execution_count": null,
   "metadata": {},
   "outputs": [],
   "source": [
    "#importing libraries\n",
    "import pandas as pd\n",
    "import numpy as np\n",
    "import matplotlib.pyplot as plt\n",
    "import seaborn as sns\n",
    "import sklearn as sk\n",
    "from sklearn.preprocessing import LabelEncoder"
   ]
  },
  {
   "cell_type": "code",
   "execution_count": null,
   "metadata": {},
   "outputs": [],
   "source": [
    "#loading dataset and prepocessing\n",
    "df = pd.read_csv(\"./bank-full.csv\",delimiter=';')\n",
    "df.dropna()\n",
    "df.keys()"
   ]
  },
  {
   "cell_type": "code",
   "execution_count": null,
   "metadata": {},
   "outputs": [],
   "source": [
    "#analysing data based on demographic factors, customer behavior and financial history"
   ]
  },
  {
   "cell_type": "code",
   "execution_count": null,
   "metadata": {},
   "outputs": [],
   "source": [
    "# Preprocessing the data\n",
    "# Convert all non-numericndata to numerical\n",
    "\n",
    "job_encoder = LabelEncoder()\n",
    "job_encoder.fit(df['job'])\n",
    "df['job'] = job_encoder.fit_transform(df['job'])\n",
    "\n",
    "marital_encoder = LabelEncoder()\n",
    "marital_encoder.fit(df['marital'])\n",
    "df['marital'] = marital_encoder.fit_transform(df['marital'])\n",
    "\n",
    "edu_encoder = LabelEncoder()\n",
    "edu_encoder.fit(df['education'])\n",
    "df['education'] = edu_encoder.fit_transform(df['education'])\n",
    "\n",
    "default_encoder = LabelEncoder()\n",
    "default_encoder.fit(df['default'])\n",
    "df['default'] = default_encoder.fit_transform(df['default'])\n",
    "\n",
    "housing_encoder = LabelEncoder()\n",
    "housing_encoder.fit(df['housing'])\n",
    "df['housing'] = housing_encoder.fit_transform(df['housing'])\n",
    "\n",
    "loan_encoder = LabelEncoder()\n",
    "loan_encoder.fit(df['loan'])\n",
    "df['loan'] = loan_encoder.fit_transform(df['loan'])\n",
    "\n",
    "contact_encoder = LabelEncoder()\n",
    "contact_encoder.fit(df['contact'])\n",
    "df['contact'] = contact_encoder.fit_transform(df['contact'])\n",
    "\n",
    "month_encoder = LabelEncoder()\n",
    "month_encoder.fit(df['month'])\n",
    "df['month'] = month_encoder.fit_transform(df['month'])\n",
    "\n",
    "pout_encoder = LabelEncoder()\n",
    "pout_encoder.fit(df['poutcome'])\n",
    "df['poutcome'] = pout_encoder.fit_transform(df['poutcome'])\n",
    "\n",
    "y_encoder = LabelEncoder()\n",
    "y_encoder.fit(df['y'])\n",
    "df['y'] = y_encoder.fit_transform(df['y'])\n",
    "\n"
   ]
  },
  {
   "cell_type": "code",
   "execution_count": null,
   "metadata": {},
   "outputs": [],
   "source": [
    "# Correlation matrix heatmap\n",
    "\n",
    "corr_matrix = df.corr()\n",
    "plt.figure(figsize=(15,15))\n",
    "plt.title(\"Correlation heatmap\")\n",
    "sns.heatmap(data=corr_matrix, annot=True, linewidths=.5)\n",
    "plt.show()"
   ]
  },
  {
   "cell_type": "code",
   "execution_count": null,
   "metadata": {},
   "outputs": [],
   "source": [
    "# Influential columns: age, job, marital, education, balance, duration, pdays, previous"
   ]
  },
  {
   "cell_type": "code",
   "execution_count": null,
   "metadata": {},
   "outputs": [],
   "source": [
    "# Create data set and training data set\n",
    "from sklearn.model_selection import train_test_split\n",
    "x = df[['age', 'job', 'marital', 'education', 'balance', 'duration', 'pdays', 'previous']]\n",
    "y = df['y']\n",
    "\n",
    "x_train, x_test, y_train, y_test = train_test_split(x, y, test_size=0.25, random_state=5)"
   ]
  },
  {
   "cell_type": "code",
   "execution_count": null,
   "metadata": {},
   "outputs": [],
   "source": [
    "# Use at least 3 machine learning models and evaluate them\n",
    "# Linear Regression\n",
    "from sklearn.linear_model import LinearRegression\n",
    "import math\n",
    "from sklearn.metrics import mean_squared_error\n",
    "\n",
    "lr_model = LinearRegression()\n",
    "lr_model.fit(x_train,y_train)\n",
    "\n",
    "# Evaluate model\n",
    "y_pred = lr_model.predict(x_test)\n",
    "\n",
    "mse = mean_squared_error(y_test, y_pred)\n",
    "rmse = math.sqrt(mse)\n",
    "\n",
    "print(f\"Root mean squared error : {rmse}\")"
   ]
  },
  {
   "cell_type": "code",
   "execution_count": null,
   "metadata": {},
   "outputs": [],
   "source": [
    "# Logistic Regression\n",
    "from sklearn.linear_model import LogisticRegression\n",
    "from sklearn.metrics import accuracy_score, classification_report\n",
    "\n",
    "lg_model = LogisticRegression(max_iter=1000, random_state=10)\n",
    "lg_model.fit(x_train, y_train)\n",
    "\n",
    "y_pred = lg_model.predict(x_test)\n",
    "\n",
    "lg_accuracy = accuracy_score(y_test, y_pred)\n",
    "print(f'Logistic Regression Accuracy: {lg_accuracy:.4f}')\n",
    "print('Classification Report:\\n', classification_report(y_test, y_pred))"
   ]
  },
  {
   "cell_type": "code",
   "execution_count": null,
   "metadata": {},
   "outputs": [],
   "source": [
    "# Random Forest\n",
    "from sklearn.ensemble import RandomForestClassifier\n",
    "\n",
    "rf_model = RandomForestClassifier(n_estimators=1000, random_state=10)\n",
    "rf_model.fit(x_train, y_train)\n",
    "\n",
    "y_pred = rf_model.predict(x_test)\n",
    "\n",
    "rf_accuracy = accuracy_score(y_test, y_pred)\n",
    "print(f'Random Forest Accuracy: {rf_accuracy:.4f}')\n",
    "print('Classification Report:\\n', classification_report(y_test, y_pred))"
   ]
  },
  {
   "cell_type": "code",
   "execution_count": null,
   "metadata": {},
   "outputs": [],
   "source": [
    "# Gradient boosting\n",
    "import xgboost as xgb\n",
    "\n",
    "# Initialize the model\n",
    "xgb_model = xgb.XGBClassifier(eval_metric='logloss', random_state=42)\n",
    "\n",
    "# Train the model\n",
    "xgb_model.fit(x_train, y_train)\n",
    "\n",
    "# Predict on the test data\n",
    "y_pred_xgb = xgb_model.predict(x_test)\n",
    "\n",
    "# Evaluate the model\n",
    "xgb_accuracy = accuracy_score(y_test, y_pred_xgb)\n",
    "print(f'XGBoost Accuracy: {xgb_accuracy:.4f}')\n",
    "print('Classification Report:\\n', classification_report(y_test, y_pred_xgb))\n",
    "\n",
    "# model accuracy : 0.8969"
   ]
  }
 ],
 "metadata": {
  "kernelspec": {
   "display_name": "env",
   "language": "python",
   "name": "python3"
  },
  "language_info": {
   "codemirror_mode": {
    "name": "ipython",
    "version": 3
   },
   "file_extension": ".py",
   "mimetype": "text/x-python",
   "name": "python",
   "nbconvert_exporter": "python",
   "pygments_lexer": "ipython3",
   "version": "3.12.4"
  }
 },
 "nbformat": 4,
 "nbformat_minor": 2
}
