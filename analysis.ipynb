{
 "cells": [
  {
   "cell_type": "code",
   "execution_count": null,
   "metadata": {},
   "outputs": [],
   "source": [
    "#importing libraries\n",
    "import pandas as pd\n",
    "import numpy as np\n",
    "import matplotlib.pyplot as plt\n",
    "import seaborn as sns"
   ]
  },
  {
   "cell_type": "code",
   "execution_count": null,
   "metadata": {},
   "outputs": [],
   "source": [
    "#loading dataset and prepocessing\n",
    "df = pd.read_csv(\"./bank-full.csv\",delimiter=';')\n",
    "df.dropna()\n",
    "df.keys()"
   ]
  },
  {
   "cell_type": "code",
   "execution_count": null,
   "metadata": {},
   "outputs": [],
   "source": [
    "#analysing data based on demographic factors, customer behavior and financial history\n",
    "# Bar plot: Average age by campaign outcome\n",
    "plt.figure(figsize=(10, 6))\n",
    "sns.barplot(x='y', y='age', data=df)\n",
    "plt.title('Average Age by Campaign Outcome')\n",
    "plt.xlabel('Campaign Outcome (y)')\n",
    "plt.ylabel('Average Age')\n",
    "plt.show()\n",
    "\n",
    "# Box plot: Age distribution by campaign outcome\n",
    "plt.figure(figsize=(10, 6))\n",
    "sns.boxplot(x='y', y='age', data=df)\n",
    "plt.title('Age Distribution by Campaign Outcome')\n",
    "plt.xlabel('Campaign Outcome (y)')\n",
    "plt.ylabel('Age')\n",
    "plt.show()\n",
    "\n",
    "# Scatter plot: Age vs. Campaign Outcome\n",
    "plt.figure(figsize=(10, 6))\n",
    "sns.stripplot(x='y', y='age', data=df, jitter=True, alpha=0.5)\n",
    "plt.title('Age vs. Campaign Outcome')\n",
    "plt.xlabel('Campaign Outcome (y)')\n",
    "plt.ylabel('Age')"
   ]
  }
 ],
 "metadata": {
  "kernelspec": {
   "display_name": "env",
   "language": "python",
   "name": "python3"
  },
  "language_info": {
   "codemirror_mode": {
    "name": "ipython",
    "version": 3
   },
   "file_extension": ".py",
   "mimetype": "text/x-python",
   "name": "python",
   "nbconvert_exporter": "python",
   "pygments_lexer": "ipython3",
   "version": "3.12.4"
  }
 },
 "nbformat": 4,
 "nbformat_minor": 2
}
